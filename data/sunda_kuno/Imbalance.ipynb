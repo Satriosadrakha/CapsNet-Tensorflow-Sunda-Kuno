{
 "cells": [
  {
   "cell_type": "code",
   "execution_count": 1,
   "metadata": {},
   "outputs": [],
   "source": [
    "j=[30,47,19,67,37,27,16,21,60,60,56,120,25,14,61,42,63,60,23,35,36,84,56,90,78,18,24,22]\n",
    "k=[12,30,7,45,16,11,7,9,40,25,24,80,10,6,39,28,42,40,10,24,24,36,36,60,52,7,10,9]"
   ]
  },
  {
   "cell_type": "code",
   "execution_count": 13,
   "metadata": {},
   "outputs": [
    {
     "name": "stderr",
     "output_type": "stream",
     "text": [
      "C:\\Users\\adjie\\anaconda3\\lib\\site-packages\\tensorflow\\python\\framework\\dtypes.py:526: FutureWarning: Passing (type, 1) or '1type' as a synonym of type is deprecated; in a future version of numpy, it will be understood as (type, (1,)) / '(1,)type'.\n",
      "  _np_qint8 = np.dtype([(\"qint8\", np.int8, 1)])\n",
      "C:\\Users\\adjie\\anaconda3\\lib\\site-packages\\tensorflow\\python\\framework\\dtypes.py:527: FutureWarning: Passing (type, 1) or '1type' as a synonym of type is deprecated; in a future version of numpy, it will be understood as (type, (1,)) / '(1,)type'.\n",
      "  _np_quint8 = np.dtype([(\"quint8\", np.uint8, 1)])\n",
      "C:\\Users\\adjie\\anaconda3\\lib\\site-packages\\tensorflow\\python\\framework\\dtypes.py:528: FutureWarning: Passing (type, 1) or '1type' as a synonym of type is deprecated; in a future version of numpy, it will be understood as (type, (1,)) / '(1,)type'.\n",
      "  _np_qint16 = np.dtype([(\"qint16\", np.int16, 1)])\n",
      "C:\\Users\\adjie\\anaconda3\\lib\\site-packages\\tensorflow\\python\\framework\\dtypes.py:529: FutureWarning: Passing (type, 1) or '1type' as a synonym of type is deprecated; in a future version of numpy, it will be understood as (type, (1,)) / '(1,)type'.\n",
      "  _np_quint16 = np.dtype([(\"quint16\", np.uint16, 1)])\n",
      "C:\\Users\\adjie\\anaconda3\\lib\\site-packages\\tensorflow\\python\\framework\\dtypes.py:530: FutureWarning: Passing (type, 1) or '1type' as a synonym of type is deprecated; in a future version of numpy, it will be understood as (type, (1,)) / '(1,)type'.\n",
      "  _np_qint32 = np.dtype([(\"qint32\", np.int32, 1)])\n",
      "C:\\Users\\adjie\\anaconda3\\lib\\site-packages\\tensorflow\\python\\framework\\dtypes.py:535: FutureWarning: Passing (type, 1) or '1type' as a synonym of type is deprecated; in a future version of numpy, it will be understood as (type, (1,)) / '(1,)type'.\n",
      "  np_resource = np.dtype([(\"resource\", np.ubyte, 1)])\n"
     ]
    }
   ],
   "source": [
    "import os\n",
    "import scipy\n",
    "import numpy as np\n",
    "import tensorflow as tf\n",
    "from PIL import Image"
   ]
  },
  {
   "cell_type": "code",
   "execution_count": 19,
   "metadata": {},
   "outputs": [],
   "source": [
    "def get_sunda_kuno(is_training):\n",
    "    i=[\"A\",\"BA\",\"CA\",\"DA\",\"GA\",\"HA\",\"I\",\"JA\",\"KA\",\"LA\",\"MA\",\"NA\",\"NGA\",\"NYA\",\"PA\",\"PANELENG\",\"PANEULEUNG\",\"PANGHULU\",\"PANGLAYAR\",\"PANOLONG\",\"PANYUKU\",\"PATEN\",\"RA\",\"SA\",\"TA\",\"U\",\"WA\",\"YA\"]\n",
    "    j=[30,47,19,67,37,27,16,21,60,60,56,120,25,14,61,42,63,60,23,35,36,84,56,90,78,18,24,22]\n",
    "    k=[12,30,7,45,16,11,7,9,40,25,24,80,10,6,39,28,42,40,10,24,24,36,36,60,52,7,10,9]\n",
    "\n",
    "    script_dir = os.path.abspath('')\n",
    "\n",
    "    sumImg = 0\n",
    "    final_np = np.array([])\n",
    "    final_label = np.array([])\n",
    "\n",
    "    if is_training==True:\n",
    "        for x in range(0, len(i), 1):\n",
    "            sumImg = sumImg + j[x]\n",
    "            for y in range(1, j[x]+1):\n",
    "                rel_path = \"%s_%s.png\" % (i[x],str(y))\n",
    "                abs_file_path = os.path.join(script_dir,\"data\",\"sunda_kuno\",\"ready_to_train_2\", rel_path)\n",
    "                img = Image.open(abs_file_path)\n",
    "                img = np.array(img)\n",
    "#                 print(img.shape)/\n",
    "                img = img[:, :]\n",
    "                final_np = np.append(final_np,img)\n",
    "                final_label = np.append(final_label,x)\n",
    "        sumImgTrain = sumImg\n",
    "\n",
    "        for x in range(0, len(i), 1):\n",
    "            sumImg = sumImg + int(k[x]/2)\n",
    "            for y in range(1, int((k[x])/2)+1):\n",
    "                rel_path = \"%s_%s.png\" % (i[x],str(y))\n",
    "                abs_file_path = os.path.join(script_dir,\"data\",\"sunda_kuno\",\"ready_to_test_2\", rel_path)\n",
    "\n",
    "                img = Image.open(abs_file_path)\n",
    "                img = np.array(img)\n",
    "                img = img[:, :]\n",
    "                final_np = np.append(final_np,img)\n",
    "                final_label = np.append(final_label,x)\n",
    "        sumImgVal = sumImg - sumImgTrain\n",
    "\n",
    "        final_np = final_np.reshape((sumImg, 28, 28, 1)).astype(np.float32)\n",
    "        final_label = final_label.reshape((sumImg)).astype(np.int32)\n",
    "        return(final_np,sumImgTrain,sumImgVal,final_label)\n",
    "        \n",
    "    else:\n",
    "        for x in range(0, len(i), 1):\n",
    "            sumImg = sumImg - (-k[x]//2)\n",
    "            for y in range((-(-k[x])//2)+1, k[x]+1):\n",
    "                rel_path = \"%s_%s.png\" % (i[x],str(y))\n",
    "                abs_file_path = os.path.join(script_dir,\"data\",\"sunda_kuno\",\"ready_to_test_2\", rel_path)\n",
    "\n",
    "                img = Image.open(abs_file_path)\n",
    "                img = np.array(img)\n",
    "                img = img[:, :, 0]\n",
    "                final_np = np.append(final_np,img)\n",
    "                final_label = np.append(final_label,x)\n",
    "        final_np = final_np.reshape((sumImg, 28, 28, 1)).astype(np.float32)\n",
    "        final_label = final_label.reshape((sumImg)).astype(np.int32)\n",
    "        return(final_np,final_label,sumImg)"
   ]
  },
  {
   "cell_type": "code",
   "execution_count": 20,
   "metadata": {},
   "outputs": [
    {
     "ename": "NameError",
     "evalue": "name 'script_dir' is not defined",
     "output_type": "error",
     "traceback": [
      "\u001b[1;31m---------------------------------------------------------------------------\u001b[0m",
      "\u001b[1;31mNameError\u001b[0m                                 Traceback (most recent call last)",
      "\u001b[1;32m<ipython-input-20-f943f296455b>\u001b[0m in \u001b[0;36m<module>\u001b[1;34m\u001b[0m\n\u001b[1;32m----> 1\u001b[1;33m \u001b[0mtrainX\u001b[0m\u001b[1;33m,\u001b[0m \u001b[0msumTrain\u001b[0m\u001b[1;33m,\u001b[0m \u001b[0msumVal\u001b[0m\u001b[1;33m,\u001b[0m \u001b[0mtrainY\u001b[0m \u001b[1;33m=\u001b[0m \u001b[0mget_sunda_kuno\u001b[0m\u001b[1;33m(\u001b[0m\u001b[1;32mTrue\u001b[0m\u001b[1;33m)\u001b[0m\u001b[1;33m\u001b[0m\u001b[1;33m\u001b[0m\u001b[0m\n\u001b[0m",
      "\u001b[1;32m<ipython-input-19-9e883ee6a575>\u001b[0m in \u001b[0;36mget_sunda_kuno\u001b[1;34m(is_training)\u001b[0m\n\u001b[0;32m     15\u001b[0m             \u001b[1;32mfor\u001b[0m \u001b[0my\u001b[0m \u001b[1;32min\u001b[0m \u001b[0mrange\u001b[0m\u001b[1;33m(\u001b[0m\u001b[1;36m1\u001b[0m\u001b[1;33m,\u001b[0m \u001b[0mj\u001b[0m\u001b[1;33m[\u001b[0m\u001b[0mx\u001b[0m\u001b[1;33m]\u001b[0m\u001b[1;33m+\u001b[0m\u001b[1;36m1\u001b[0m\u001b[1;33m)\u001b[0m\u001b[1;33m:\u001b[0m\u001b[1;33m\u001b[0m\u001b[1;33m\u001b[0m\u001b[0m\n\u001b[0;32m     16\u001b[0m                 \u001b[0mrel_path\u001b[0m \u001b[1;33m=\u001b[0m \u001b[1;34m\"%s_%s.png\"\u001b[0m \u001b[1;33m%\u001b[0m \u001b[1;33m(\u001b[0m\u001b[0mi\u001b[0m\u001b[1;33m[\u001b[0m\u001b[0mx\u001b[0m\u001b[1;33m]\u001b[0m\u001b[1;33m,\u001b[0m\u001b[0mstr\u001b[0m\u001b[1;33m(\u001b[0m\u001b[0my\u001b[0m\u001b[1;33m)\u001b[0m\u001b[1;33m)\u001b[0m\u001b[1;33m\u001b[0m\u001b[1;33m\u001b[0m\u001b[0m\n\u001b[1;32m---> 17\u001b[1;33m                 \u001b[0mabs_file_path\u001b[0m \u001b[1;33m=\u001b[0m \u001b[0mos\u001b[0m\u001b[1;33m.\u001b[0m\u001b[0mpath\u001b[0m\u001b[1;33m.\u001b[0m\u001b[0mjoin\u001b[0m\u001b[1;33m(\u001b[0m\u001b[0mscript_dir\u001b[0m\u001b[1;33m,\u001b[0m\u001b[1;34m\"data\"\u001b[0m\u001b[1;33m,\u001b[0m\u001b[1;34m\"sunda_kuno\"\u001b[0m\u001b[1;33m,\u001b[0m\u001b[1;34m\"ready_to_train_2\"\u001b[0m\u001b[1;33m,\u001b[0m \u001b[0mrel_path\u001b[0m\u001b[1;33m)\u001b[0m\u001b[1;33m\u001b[0m\u001b[1;33m\u001b[0m\u001b[0m\n\u001b[0m\u001b[0;32m     18\u001b[0m                 \u001b[0mimg\u001b[0m \u001b[1;33m=\u001b[0m \u001b[0mImage\u001b[0m\u001b[1;33m.\u001b[0m\u001b[0mopen\u001b[0m\u001b[1;33m(\u001b[0m\u001b[0mabs_file_path\u001b[0m\u001b[1;33m)\u001b[0m\u001b[1;33m\u001b[0m\u001b[1;33m\u001b[0m\u001b[0m\n\u001b[0;32m     19\u001b[0m                 \u001b[0mimg\u001b[0m \u001b[1;33m=\u001b[0m \u001b[0mnp\u001b[0m\u001b[1;33m.\u001b[0m\u001b[0marray\u001b[0m\u001b[1;33m(\u001b[0m\u001b[0mimg\u001b[0m\u001b[1;33m)\u001b[0m\u001b[1;33m\u001b[0m\u001b[1;33m\u001b[0m\u001b[0m\n",
      "\u001b[1;31mNameError\u001b[0m: name 'script_dir' is not defined"
     ]
    }
   ],
   "source": [
    "trainX, sumTrain, sumVal, trainY = get_sunda_kuno(True)"
   ]
  },
  {
   "cell_type": "code",
   "execution_count": null,
   "metadata": {},
   "outputs": [],
   "source": []
  }
 ],
 "metadata": {
  "kernelspec": {
   "display_name": "Python 3",
   "language": "python",
   "name": "python3"
  },
  "language_info": {
   "codemirror_mode": {
    "name": "ipython",
    "version": 3
   },
   "file_extension": ".py",
   "mimetype": "text/x-python",
   "name": "python",
   "nbconvert_exporter": "python",
   "pygments_lexer": "ipython3",
   "version": "3.7.6"
  }
 },
 "nbformat": 4,
 "nbformat_minor": 4
}
