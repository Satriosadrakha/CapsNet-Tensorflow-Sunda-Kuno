{
 "cells": [
  {
   "cell_type": "code",
   "execution_count": 28,
   "metadata": {},
   "outputs": [],
   "source": [
    "import os\n",
    "import cv2 as cv\n",
    "import numpy as np\n",
    "from PIL import Image, ImageFilter, ImageEnhance\n",
    "import PIL.ImageOps\n",
    "import os\n",
    "import glob\n",
    "from sklearn.model_selection import train_test_split\n",
    "\n",
    "def get_sunda_ran(aksara,subtract=0):\n",
    "    script_dir = os.path.abspath('')\n",
    "    i=[\"A\",\"BA\",\"CA\",\"DA\",\"GA\",\"HA\",\"I\",\"JA\",\"KA\",\"LA\",\"MA\",\"NA\",\"NGA\",\"NYA\",\"PA\",\"PANELENG\",\"PANEULEUNG\",\"PANGHULU\",\"PANGLAYAR\",\"PANOLONG\",\"PANYUKU\",\"PATEN\",\"RA\",\"SA\",\"TA\",\"U\",\"WA\",\"YA\"]\n",
    "    j=[30,47,19,67,37,27,16,21,60,60,56,120,25,14,61,42,63,60,23,35,36,84,56,90,78,18,24,22]\n",
    "    k=[12,30,7,45,16,11,7,9,40,25,24,80,10,6,39,28,42,40,10,24,24,36,36,60,52,7,10,9]\n",
    "    ganed = [0,2,4,5,6,7,12,13,18,19,20,25,26,27]\n",
    "\n",
    "    final_np = np.array([])\n",
    "    final_label = np.array([])\n",
    "\n",
    "    #   train_image to ready_to_train\n",
    "#for x in range(0, len(i), 1):\n",
    "    sumImg = 0\n",
    "    directory_path = os.path.join(script_dir,\"train-test_image\")\n",
    "    count_image = len(glob.glob1(directory_path,\"%s_*.png\" % (i[aksara])))\n",
    "\n",
    "    for y in range(1, count_image+1):\n",
    "        abs_file_path = os.path.join(directory_path, \"%s_%s.png\" % (i[aksara],str(y)))\n",
    "        img = Image.open(abs_file_path)\n",
    "        img = np.array(img)\n",
    "        img = img[:, :]\n",
    "        final_np = np.append(final_np,img)\n",
    "        final_label = np.append(final_label,aksara)\n",
    "    sumImg = sumImg + count_image\n",
    "    final_np = final_np.reshape((sumImg, 28, 28, 1)).astype(np.float32)\n",
    "    final_label = final_label.reshape((sumImg)).astype(np.int32)\n",
    "    print(final_np.shape)\n",
    "    idx = np.random.choice(sumImg,size=sumImg-subtract,replace=False)\n",
    "    print(idx)\n",
    "    print(final_np[idx,:].shape)\n",
    "    \n",
    "    data_train, data_test, labels_train, labels_test = train_test_split(final_np[idx,:], final_label[idx,:], test_size=0.30, random_state=42)\n",
    "#     return(data_train,sumImg)\n",
    "#     print(final_label)\n",
    "#     print(data_train.shape)\n",
    "#     print(data_test.shape)\n",
    "#     print(labels_train)\n",
    "#     print(labels_test)def get_sunda(aksara):\n"
   ]
  },
  {
   "cell_type": "code",
   "execution_count": 29,
   "metadata": {},
   "outputs": [
    {
     "name": "stdout",
     "output_type": "stream",
     "text": [
      "(112, 28, 28, 1)\n",
      "[ 83 103  57  41 111  89  64  37  13  25 108  53  79   4  93  72   7  21\n",
      "  66  22  87  28  32  61  55  63  58  31  65  74 102  42  26  71  59  90\n",
      "  11   1  27  94   0   8  97  81   2 110  39  49 106  33  95  98 100  96\n",
      "  86  78  36  34  73  12  92  85 101  88  82 105  30  17  56  38  45  43\n",
      "  68  76  51  44  91  52  77   9   6  19 107  62  46 104  35  67  75  16]\n",
      "(90, 28, 28, 1)\n"
     ]
    }
   ],
   "source": [
    "get_sunda_ran(3,22)"
   ]
  },
  {
   "cell_type": "code",
   "execution_count": null,
   "metadata": {},
   "outputs": [],
   "source": []
  }
 ],
 "metadata": {
  "kernelspec": {
   "display_name": "Python 3",
   "language": "python",
   "name": "python3"
  },
  "language_info": {
   "codemirror_mode": {
    "name": "ipython",
    "version": 3
   },
   "file_extension": ".py",
   "mimetype": "text/x-python",
   "name": "python",
   "nbconvert_exporter": "python",
   "pygments_lexer": "ipython3",
   "version": "3.7.6"
  }
 },
 "nbformat": 4,
 "nbformat_minor": 4
}
