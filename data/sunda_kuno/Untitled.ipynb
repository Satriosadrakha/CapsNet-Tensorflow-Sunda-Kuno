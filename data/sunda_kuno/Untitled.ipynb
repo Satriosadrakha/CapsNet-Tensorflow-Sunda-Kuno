{
 "cells": [
  {
   "cell_type": "code",
   "execution_count": 34,
   "metadata": {},
   "outputs": [],
   "source": [
    "import os\n",
    "import cv2 as cv\n",
    "import numpy as np\n",
    "from PIL import Image, ImageFilter, ImageEnhance\n",
    "import PIL.ImageOps\n",
    "import os\n",
    "import glob\n",
    "from sklearn.model_selection import train_test_split\n",
    "\n",
    "def get_sunda_ran(aksara,subtract=0):\n",
    "    script_dir = os.path.abspath('')\n",
    "    i=[\"A\",\"BA\",\"CA\",\"DA\",\"GA\",\"HA\",\"I\",\"JA\",\"KA\",\"LA\",\"MA\",\"NA\",\"NGA\",\"NYA\",\"PA\",\"PANELENG\",\"PANEULEUNG\",\"PANGHULU\",\"PANGLAYAR\",\"PANOLONG\",\"PANYUKU\",\"PATEN\",\"RA\",\"SA\",\"TA\",\"U\",\"WA\",\"YA\"]\n",
    "    j=[30,47,19,67,37,27,16,21,60,60,56,120,25,14,61,42,63,60,23,35,36,84,56,90,78,18,24,22]\n",
    "    k=[12,30,7,45,16,11,7,9,40,25,24,80,10,6,39,28,42,40,10,24,24,36,36,60,52,7,10,9]\n",
    "    ganed = [0,2,4,5,6,7,12,13,18,19,20,25,26,27]\n",
    "\n",
    "    final_np = np.array([])\n",
    "    final_label = np.array([])\n",
    "\n",
    "    #   train_image to ready_to_train\n",
    "#for x in range(0, len(i), 1):\n",
    "    sumImg = 0\n",
    "    directory_path = os.path.join(script_dir,\"train-test_image\")\n",
    "    count_image = len(glob.glob1(directory_path,\"%s_*.png\" % (i[aksara])))\n",
    "\n",
    "    for y in range(1, count_image+1):\n",
    "        abs_file_path = os.path.join(directory_path, \"%s_%s.png\" % (i[aksara],str(y)))\n",
    "        img = Image.open(abs_file_path)\n",
    "        img = np.array(img)\n",
    "        img = img[:, :]\n",
    "        final_np = np.append(final_np,img)\n",
    "        final_label = np.append(final_label,aksara)\n",
    "    sumImg = sumImg + count_image\n",
    "    final_np = final_np.reshape((sumImg, 28, 28, 1)).astype(np.float32)\n",
    "    final_label = final_label.reshape((sumImg)).astype(np.int32)\n",
    "    print(final_np.shape)\n",
    "    print(final_label.shape)\n",
    "    idx = np.random.choice(sumImg,size=sumImg-subtract,replace=False)\n",
    "    print(idx)\n",
    "    print(final_np[idx,:].shape)\n",
    "    \n",
    "    data_train, data_test, labels_train, labels_test = train_test_split(final_np[idx,:], final_label[idx], test_size=0.30, random_state=42)\n",
    "#     return(data_train,sumImg)\n",
    "#     print(final_label)\n",
    "    print(data_train.shape)\n",
    "    print(data_test.shape)\n",
    "#     print(labels_train)\n",
    "#     print(labels_test)def get_sunda(aksara):\n"
   ]
  },
  {
   "cell_type": "code",
   "execution_count": 35,
   "metadata": {},
   "outputs": [
    {
     "name": "stdout",
     "output_type": "stream",
     "text": [
      "(112, 28, 28, 1)\n",
      "(112,)\n",
      "[ 35  81  21  73  27   0   5   7  69 108  16  72 106  94  64  95   4  26\n",
      "  45  66  30  86 102  84  96  52  59  54  57  28  60   6 110  83  87  37\n",
      "  41  47  65  74  80 104  62  31 111  10 107  20  68  14  99   3  34  46\n",
      "  22  50  63  24 105 101  33  90  36  19  17  39  71   8  38  85  98   9\n",
      "  23  29  40  44  61  43  93  18  53  92 103  77  48  82  78  51   2  49]\n",
      "(90, 28, 28, 1)\n",
      "(63, 28, 28, 1)\n",
      "(27, 28, 28, 1)\n"
     ]
    }
   ],
   "source": [
    "get_sunda_ran(3,22)"
   ]
  },
  {
   "cell_type": "code",
   "execution_count": null,
   "metadata": {},
   "outputs": [],
   "source": []
  }
 ],
 "metadata": {
  "kernelspec": {
   "display_name": "Python 3",
   "language": "python",
   "name": "python3"
  },
  "language_info": {
   "codemirror_mode": {
    "name": "ipython",
    "version": 3
   },
   "file_extension": ".py",
   "mimetype": "text/x-python",
   "name": "python",
   "nbconvert_exporter": "python",
   "pygments_lexer": "ipython3",
   "version": "3.7.1"
  }
 },
 "nbformat": 4,
 "nbformat_minor": 4
}
